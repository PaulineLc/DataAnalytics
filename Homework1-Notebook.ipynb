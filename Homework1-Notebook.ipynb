{
 "cells": [
  {
   "cell_type": "markdown",
   "metadata": {},
   "source": [
    "# Homework1\n",
    "\n",
    "Deadline to upload your IPython Notebook with solutions to these exercises: Thursday, 18 Feb, 2016, 4pm. Please name your notebook using your full name and student id.\n",
    "\n",
    "## Exercises\n",
    "\n",
    "1. [10pt] For two Irish political parties or candidates of your own choice, search and download the files containing their General Elections 2016 political manifesto (i.e., political plan). A few links to manifestos available online in pdf format are given below. \n",
    "    - [Fine Gael](http://www.finegael.ie/__uuid/7df44e94-e6d4-4744-9f5b-c9ea1f1216d2/FG_GE16_LEP_Final.pdf)\n",
    "    - [Labour](https://www.labour.ie/download/pdf/labour_launching_a_skills_revolution_hr_1.pdf)\n",
    "    - [Sinn Fein](https://www.sinnfein.ie/files/2016/GE2016ElectionManifesto.pdf)\n",
    "    - [Renua](http://www.renuaireland.com/wp-content/uploads/2016/01/RENUA-Manifesto.pdf)\n",
    "    - [SocialDemocrats](https://drive.google.com/a/insight-centre.org/file/d/0B7hTX_nop6XkRGdURzVoendyQzQ/view)\n",
    "    - [DirectDemocracy](https://www.directdemocracyireland.ie/pdf/ddi_manifesto-2016.pdf)\n",
    "    \n",
    "2. [5pt] Extract the text content from the two files, and save it to two different text files on your computer.\n",
    "\n",
    "3. [30pt] Using the text of each political manifesto, compute and print descriptive statistics: \n",
    "    - [5pt]  print the first 500 characters of the text, \n",
    "    - [10pt] print the total number of sentences and the shortest and the longest sentence, \n",
    "    - [10pt] print the total number of words and the ratio of unique words to total number of words, \n",
    "    - [5pt]  print the most frequent 20 words.\n",
    "    \n",
    "4. [35pt] For each text file containing the political manifesto:\n",
    "    - [15pt] remove the punctuation from the text, transform all words to lower case and remove the stop words,\n",
    "    - [5pt]  print the first 500 characters of the cleaned text,\n",
    "    - [5pt]  print the top-20 most frequent words in the cleaned text, \n",
    "    - [10pt] on the cleaned text, use a dispersion plot to show the coverage of different issues in the two manifestos, where the issues are: \"abortion\", \"crime\", \"debt\", \"economy\", \"environment\", \"health\", \"housing\", \"infrastructure\" , \"jobs\", \"tax\".\n",
    "\n",
    "5. [20pt] Choose two different methods of summarising and contrasting the two political manifestos to give a better understanding of the characteristics and focus of each. Discuss the advantages and disadvantages of the methods proposed."
   ]
  }
 ],
 "metadata": {
  "kernelspec": {
   "display_name": "Python 3",
   "language": "python",
   "name": "python3"
  },
  "language_info": {
   "codemirror_mode": {
    "name": "ipython",
    "version": 3
   },
   "file_extension": ".py",
   "mimetype": "text/x-python",
   "name": "python",
   "nbconvert_exporter": "python",
   "pygments_lexer": "ipython3",
   "version": "3.5.1"
  }
 },
 "nbformat": 4,
 "nbformat_minor": 0
}
