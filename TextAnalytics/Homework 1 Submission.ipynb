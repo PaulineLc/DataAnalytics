{
 "cells": [
  {
   "cell_type": "markdown",
   "metadata": {},
   "source": [
    "# Homework 1\n",
    "#### Pauline Lallinec\n",
    "#### 12251066"
   ]
  },
  {
   "cell_type": "markdown",
   "metadata": {},
   "source": [
    "### I. [10pt] For two Irish political parties or candidates of your own choice, search and download the files containing their General Elections 2016 political manifesto (i.e., political plan)."
   ]
  },
  {
   "cell_type": "code",
   "execution_count": 40,
   "metadata": {
    "collapsed": false
   },
   "outputs": [
    {
     "name": "stdout",
     "output_type": "stream",
     "text": [
      "Homework1-Notebook.ipynb            manifesto_renua.pdf\r\n",
      "Lallinec, Pauline_Homework 1.ipynb  manifesto_renua.txt\r\n",
      "manifesto_ddi.pdf                   \u001b[0m\u001b[01;34mxpdfbin-linux-3.03\u001b[0m/\r\n",
      "manifesto_ddi.txt                   \u001b[01;31mxpdfbin-linux-3.03.tar.gz\u001b[0m\r\n"
     ]
    }
   ],
   "source": [
    "import requests\n",
    "import nltk\n",
    "import re\n",
    "import numpy as np\n",
    "\n",
    "#Getting the manifesto of each party\n",
    "\n",
    "url_renua = \"http://www.renuaireland.com/wp-content/uploads/2016/01/RENUA-Manifesto.pdf\"\n",
    "url_ddi = \"https://www.directdemocracyireland.ie/pdf/ddi_manifesto-2016.pdf\"\n",
    "\n",
    "manifesto_renua = requests.get(url_renua)\n",
    "manifesto_ddi = requests.get(url_ddi)\n",
    "\n",
    "\n",
    "#Saving the manifesto in local as a PDF file\n",
    "\n",
    "with open(\"manifesto_renua.pdf\", \"wb\") as pdffile:\n",
    "    pdffile.write(manifesto_renua.content)\n",
    "\n",
    "with open(\"manifesto_ddi.pdf\", \"wb\") as pdffile:\n",
    "    pdffile.write(manifesto_ddi.content)\n",
    "\n",
    "    \n",
    "%ls #check that the files have correctly downloaded"
   ]
  },
  {
   "cell_type": "markdown",
   "metadata": {},
   "source": [
    "> II. [5pt] Extract the text content from the two files, and save it to two different text files on your computer."
   ]
  },
  {
   "cell_type": "code",
   "execution_count": 41,
   "metadata": {
    "collapsed": false
   },
   "outputs": [
    {
     "name": "stdout",
     "output_type": "stream",
     "text": [
      "Homework1-Notebook.ipynb            manifesto_renua.pdf\r\n",
      "Lallinec, Pauline_Homework 1.ipynb  manifesto_renua.txt\r\n",
      "manifesto_ddi.pdf                   \u001b[0m\u001b[01;34mxpdfbin-linux-3.03\u001b[0m/\r\n",
      "manifesto_ddi.txt                   \u001b[01;31mxpdfbin-linux-3.03.tar.gz\u001b[0m\r\n"
     ]
    }
   ],
   "source": [
    "#convert PDF to txt\n",
    "\n",
    "#Download xpdfbin and decompress it (http://www.foolabs.com/xpdf/download.html)\n",
    "#If you xpdfbin is not saved in the current folder, please update the code below with the path to it\n",
    "\n",
    "! xpdfbin-linux-3.03/bin64/pdftotext -enc UTF-8 manifesto_renua.pdf manifesto_renua.txt\n",
    "! xpdfbin-linux-3.03/bin64/pdftotext -enc UTF-8 manifesto_ddi.pdf manifesto_ddi.txt\n",
    "\n",
    "%ls #check that the files were correct exported to .txt"
   ]
  },
  {
   "cell_type": "markdown",
   "metadata": {},
   "source": [
    "### III. [5pt]  print the first 500 characters of the text"
   ]
  },
  {
   "cell_type": "code",
   "execution_count": 42,
   "metadata": {
    "collapsed": false
   },
   "outputs": [
    {
     "name": "stdout",
     "output_type": "stream",
     "text": [
      "500 first characters of the Renua manifesto:\n",
      " PARTY MANIFESTO\n",
      "\n",
      "Rewarding Work Rebuilding Trust\n",
      "\n",
      "1\n",
      "\n",
      "\f",
      "2\n",
      "\n",
      "\f",
      "Party Leader, Lucinda Creighton TD\n",
      "\n",
      "RENUA Ireland was created to drive change, in a political system that has resisted fundamental change for decades. We will build a transparent accountable state based on ethics, integrity and the reward of merit. In this manifesto, we present one of the most ambitious political programmes ever presented to the Irish people. We want to build a country where work is rewarded and job creators and innovator\n",
      "\n",
      "\n",
      "500 first characters of the Direct Democracy Ireland Manifesto:\n",
      " D I R E C T DEMOCRACY IRELAND A National Citizens Movement\n",
      "\n",
      "2016 General Election Manifesto\n",
      "\n",
      "A New Democracy A Stronger Ireland\n",
      "Equality, Opportunity, Sustainability\n",
      "\n",
      "\f",
      "Table Of Contents\n",
      "Preface\n",
      "1 1 2 3 5 8 11 15 18 20 33 33\n",
      "Direct Democracy Ireland A National Citizens Movement Published by: Direct Democracy Ireland. Publication Date: Jan 2016 Contact Details: Direct Democracy Ireland The old post o ce Reaghstown Ardee Co.Louth 0416855743 0894383597 drectdemocracyeire@gmail.com For further inform\n"
     ]
    }
   ],
   "source": [
    "#Open the Renua manifesto and print the 500 first characters\n",
    "\n",
    "with open(\"manifesto_renua.txt\", \"rb\") as manifesto_renua:\n",
    "    manifesto_renua = manifesto_renua.read().decode('UTF-8')\n",
    "\n",
    "print(\"500 first characters of the Renua manifesto:\\n\", manifesto_renua[0:500])\n",
    "\n",
    "\n",
    "#Open the Direct Democracy Ireland manifesto and print the 500 first characters\n",
    "\n",
    "with open(\"manifesto_ddi.txt\", \"rb\") as manifesto_ddi:\n",
    "    manifesto_ddi = manifesto_ddi.read().decode('UTF-8')\n",
    "print(\"\\n\")\n",
    "print(\"500 first characters of the Direct Democracy Ireland Manifesto:\\n\", manifesto_ddi[0:500])"
   ]
  },
  {
   "cell_type": "markdown",
   "metadata": {},
   "source": [
    "### III. [10pt] print the total number of sentences and the shortest and the longest sentence"
   ]
  },
  {
   "cell_type": "code",
   "execution_count": 43,
   "metadata": {
    "collapsed": false
   },
   "outputs": [],
   "source": [
    "#Tokenize it with nltk\n",
    "\n",
    "sentences_renua = nltk.sent_tokenize(manifesto_renua)\n",
    "sentences_ddi = nltk.sent_tokenize(manifesto_ddi)\n",
    "\n",
    "\n",
    "#a Trim which count blank lines (\"\\n) as new sentences; creates less noise in the data.\n",
    "\n",
    "def trim_manifesto(manifesto_tokenized):\n",
    "    '''Assumes input is a text tokenized by sentence\n",
    "    Will further tokenize the text splitting it where a new line (\\n) is found\n",
    "    Will also remove empty tokens (\"\") '''\n",
    "    my_trimmed_list = []\n",
    "    for i in range(len(manifesto_tokenized)):\n",
    "        my_trimmed_list += [manifesto_tokenized[i].split(\"\\n\")]\n",
    "        \n",
    "    #The below is just aestetic: it flattens the array so we won't have a multi-level array\n",
    "    #and it also remove empty elements (e.g. '')\n",
    "    my_trimmed_list = [item for sublist in my_trimmed_list for item in sublist if len(item) > 0]\n",
    "    return(my_trimmed_list)\n",
    "\n",
    "\n",
    "#Defines variable to return the manifestos broken down by sentences\n",
    "\n",
    "sentences_renua = trim_manifesto(sentences_renua)\n",
    "sentences_ddi = trim_manifesto(sentences_ddi)"
   ]
  },
  {
   "cell_type": "code",
   "execution_count": 44,
   "metadata": {
    "collapsed": false
   },
   "outputs": [
    {
     "name": "stdout",
     "output_type": "stream",
     "text": [
      "There are 1517 sentences in the Renua manifesto and there are 747 sentences in the DDI manifesto.\n",
      "\n",
      "Renua's manifesto longuest sentence is the following:\n",
      "RENUA Ireland will: • Commission and introduce a programme of management training that will begin at senior grades within the public sector and be cascaded down over a period of time; Ensure that each department and agency has task-related training programmes in place that are ﬁt for purpose; Ensure that every employee has a clearly deﬁned job description and that their goals for each quarter and year are clearly explained and outlined; Instigate a new, transparent and objective performance management system that is aimed at driving higher performance standards in the public service; Introduce a set of supportive tools and sanctions which will assist underperformers in improving their outputs and support managers in dealing with underperformers after all reasonable steps to improve performance have been taken; Commence an annual audit of performance grading across the public sector.\n",
      "\n",
      "DDI's manifesto longest sentence is the following:\n",
      "\f",
      "Ireland is on the brink of a major Mental Health crisis, The total numbers of people who die by suicide is higher than the combined numbers of people who die by Murder or who die in road tra c accidents, the Government are far to reliant on Voluntary organisations and ignore the seriousness of the issue, without these invaluable originations’ like SOSAD, Pieta house, The Samaritans, Aware, Teen line, Child-line, Living link, Console, Reach out, Spun-Out, and many more Direct Democracy Ireland believes that mental health issues should be treated like all illnesses and treatment should be made ready available.\n",
      "\n",
      "The shortest sentence in Renua's manifesto as identified by my algorithm is:\n",
      "Lucinda\n",
      "\n",
      "The shortest sentence in Direct Democracy Ireland's manifesto is:\n",
      "Preface\n"
     ]
    }
   ],
   "source": [
    "#print the number of sentences per manifesto\n",
    "\n",
    "def nb_sent(manifesto_tokenized):\n",
    "    '''This function returns the number of sentences in a text\n",
    "    Text input should be tokenized by sentences'''\n",
    "    return len(manifesto_tokenized)\n",
    "\n",
    "print(\"There are\", nb_sent(sentences_renua), \"sentences in the Renua manifesto and there are\", \n",
    "      nb_sent(sentences_ddi), \"sentences in the DDI manifesto.\\n\")\n",
    "\n",
    "\n",
    "#print the longest phrase of the manifesto\n",
    "\n",
    "def longest_sent(manifesto_tokenized):\n",
    "    '''Returns the longest sentence in a text tokenized by sentence'''\n",
    "    word_count = lambda manifesto_tokenized: len(nltk.word_tokenize(manifesto_tokenized))\n",
    "    return(max(manifesto_tokenized, key =word_count))\n",
    "\n",
    "print(\"Renua\\'s manifesto longuest sentence is the following:\\n\" + longest_sent(sentences_renua) + \"\\n\")\n",
    "print(\"DDI\\'s manifesto longest sentence is the following:\\n\" + longest_sent(sentences_ddi) + \"\\n\")\n",
    "\n",
    "\n",
    "#print the shortest sentence\n",
    "#In order to get a more meaningful result, I decided to trim the manifesto\n",
    "\n",
    "def shortest_sent(manifesto_tokenized):\n",
    "    '''Returns the shortest sentence in a text tokenized by sentence'''\n",
    "    trimmed_manifesto = []\n",
    "    for sentence in manifesto_tokenized:\n",
    "        \n",
    "        #This will remove sentences with no letter in them, such as \"1.\"\n",
    "        if re.search('[a-zA-Z]', sentence) != None:\n",
    "            trimmed_manifesto += [sentence]\n",
    "    word_count = lambda trimmed_manifesto: len(nltk.word_tokenize(trimmed_manifesto))\n",
    "    return(min(trimmed_manifesto, key = word_count))\n",
    "\n",
    "\n",
    "print(\"The shortest sentence in Renua's manifesto as identified by my algorithm is:\\n\" + shortest_sent(sentences_renua))\n",
    "print(\"\\nThe shortest sentence in Direct Democracy Ireland's manifesto is:\\n\"+shortest_sent(sentences_ddi))"
   ]
  },
  {
   "cell_type": "markdown",
   "metadata": {
    "collapsed": true
   },
   "source": [
    "### III. [10pt] print the total number of words and the ratio of unique words to total number of words"
   ]
  },
  {
   "cell_type": "code",
   "execution_count": 45,
   "metadata": {
    "collapsed": false
   },
   "outputs": [
    {
     "name": "stdout",
     "output_type": "stream",
     "text": [
      "There are 31125 words in Renua's manifesto and there are 15276 words in Direct Democracy Ireland's manifesto.\n",
      "There are 16.74 % of unique words in Renua's manifesto\n",
      "There are 20.88 % of unique words in Direct Democracy Ireland's manifesto\n"
     ]
    }
   ],
   "source": [
    "#Getting the number of words and printing the results\n",
    "\n",
    "words_renua = nltk.word_tokenize(manifesto_renua)\n",
    "words_ddi = nb_words = nltk.word_tokenize(manifesto_ddi)\n",
    "\n",
    "print(\"There are\", len(words_renua), \"words in Renua's manifesto and there are\",\n",
    "      len(words_ddi), \"words in Direct Democracy Ireland's manifesto.\")\n",
    "\n",
    "\n",
    "#Getting the number of unique words\n",
    "\n",
    "unique_words_renua = len(set(words_renua))\n",
    "unique_words_ddi = len(set(words_ddi))\n",
    "\n",
    "\n",
    "#Calculating the ratio\n",
    "\n",
    "ratio_unique_renua = unique_words_renua/len(words_renua)*100\n",
    "ratio_unique_ddi = (unique_words_ddi/len(words_ddi))*100\n",
    "\n",
    "\n",
    "print(\"There are %.2f %% of unique words in Renua's manifesto\" % ratio_unique_renua)\n",
    "print(\"There are %.2f %% of unique words in Direct Democracy Ireland's manifesto\" % ratio_unique_ddi)"
   ]
  },
  {
   "cell_type": "markdown",
   "metadata": {},
   "source": [
    "### III. [5pt]  print the most frequent 20 words."
   ]
  },
  {
   "cell_type": "code",
   "execution_count": 46,
   "metadata": {
    "collapsed": false
   },
   "outputs": [
    {
     "name": "stdout",
     "output_type": "stream",
     "text": [
      "Renua's manifesto most common words are:\n",
      "1. \"the\" appears 1393 times\n",
      "2. \".\" appears 1234 times\n",
      "3. \"of\" appears 1016 times\n",
      "4. \"and\" appears 987 times\n",
      "5. \"to\" appears 942 times\n",
      "6. \",\" appears 631 times\n",
      "7. \"a\" appears 575 times\n",
      "8. \"in\" appears 566 times\n",
      "9. \"for\" appears 403 times\n",
      "10. \"will\" appears 372 times\n",
      "11. \"Ireland\" appears 372 times\n",
      "12. \"be\" appears 354 times\n",
      "13. \"that\" appears 346 times\n",
      "14. \"is\" appears 320 times\n",
      "15. \"RENUA\" appears 264 times\n",
      "16. \"•\" appears 252 times\n",
      "17. \"with\" appears 206 times\n",
      "18. \"on\" appears 180 times\n",
      "19. \"The\" appears 175 times\n",
      "20. \"are\" appears 174 times\n",
      "\n",
      "\n",
      "Direct Democracy Ireland's manifesto most common words are:\n",
      "1. \"the\" appears 726 times\n",
      "2. \".\" appears 632 times\n",
      "3. \"of\" appears 474 times\n",
      "4. \"to\" appears 471 times\n",
      "5. \"and\" appears 449 times\n",
      "6. \",\" appears 369 times\n",
      "7. \"a\" appears 307 times\n",
      "8. \"in\" appears 249 times\n",
      "9. \"is\" appears 180 times\n",
      "10. \"for\" appears 167 times\n",
      "11. \"Ireland\" appears 160 times\n",
      "12. \"that\" appears 136 times\n",
      "13. \"will\" appears 126 times\n",
      "14. \"be\" appears 124 times\n",
      "15. \"are\" appears 114 times\n",
      "16. \"Democracy\" appears 112 times\n",
      "17. \"on\" appears 109 times\n",
      "18. \"people\" appears 104 times\n",
      "19. \"Direct\" appears 102 times\n",
      "20. \"our\" appears 96 times\n"
     ]
    }
   ],
   "source": [
    "#Counting the frequency of each words\n",
    "\n",
    "def common_words(manifesto, n):\n",
    "    '''returns the n most common words\n",
    "    assumes the manifesto is tokenized by words'''\n",
    "    freq = nltk.FreqDist(manifesto)\n",
    "    result = freq.most_common(n)\n",
    "    return(result)\n",
    "\n",
    "\n",
    "most_common_renua = common_words(words_renua, 20)\n",
    "most_common_ddi = common_words(words_ddi, 20)\n",
    "\n",
    "\n",
    "#Printing the 20 most common words\n",
    "\n",
    "print(\"Renua's manifesto most common words are:\")\n",
    "for i,j in enumerate(most_common_renua):\n",
    "    print(\"%s. \\\"%s\\\" appears %s times\" % (i + 1, j[0], j[1]))\n",
    "\n",
    "print(\"\\n\\nDirect Democracy Ireland's manifesto most common words are:\")\n",
    "for i,j, in enumerate(most_common_ddi):\n",
    "    print(\"%s. \\\"%s\\\" appears %s times\" % (i + 1, j[0], j[1]))"
   ]
  },
  {
   "cell_type": "markdown",
   "metadata": {},
   "source": [
    "### IV.[15pt] remove the punctuation from the text, transform all words to lower case and remove the stop words"
   ]
  },
  {
   "cell_type": "code",
   "execution_count": 47,
   "metadata": {
    "collapsed": false
   },
   "outputs": [],
   "source": [
    "#Trimming the text\n",
    "\n",
    "def text_trim(manifesto):\n",
    "    '''Assumes the manifesto is tokenized by words.\n",
    "    converts the text to lower case\n",
    "    removes punctuation\n",
    "    removes English stop words\n",
    "    '''\n",
    "    manifesto = nltk.Text(manifesto)\n",
    "    manifesto = [words.lower() for words in manifesto if words.isalpha()]\n",
    "    manifesto = [w for w in manifesto if not w in nltk.corpus.stopwords.words('english')]\n",
    "    return(manifesto)\n",
    "\n",
    "\n",
    "#Creation of 2 variables per manifestos: 1 variable for the raw text, 1 variable for the text tokenized y words.\n",
    "\n",
    "trimmed_manifesto_renua_token = text_trim(words_renua)\n",
    "trimmed_manifesto_renua = \" \".join(trimmed_manifesto_renua_token)\n",
    "\n",
    "trimmed_manifesto_ddi_token = text_trim(words_ddi)\n",
    "trimmed_manifesto_ddi = \" \".join(trimmed_manifesto_ddi_token)"
   ]
  },
  {
   "cell_type": "markdown",
   "metadata": {},
   "source": [
    "### IV. [5pt]  print the first 500 characters of the cleaned text"
   ]
  },
  {
   "cell_type": "code",
   "execution_count": 48,
   "metadata": {
    "collapsed": false
   },
   "outputs": [
    {
     "name": "stdout",
     "output_type": "stream",
     "text": [
      "The 500 first character of Renua's manifesto are:\n",
      "party manifesto rewarding work rebuilding trust party leader lucinda creighton td renua ireland created drive change political system resisted fundamental change decades build transparent accountable state based ethics integrity reward merit manifesto present one ambitious political programmes ever presented irish people want build country work rewarded job creators innovators valued primarily low tax economy proposal introduce simpliﬁed tax system replacing different rates tax ﬂat rate income t\n",
      "\n",
      "\n",
      "The 500 first characters of Direct Democracy Ireland's manifesto are:\n",
      "d r e c democracy ireland national citizens movement general election manifesto new democracy stronger ireland equality opportunity sustainability table contents preface direct democracy ireland national citizens movement published direct democracy ireland publication date jan contact details direct democracy ireland old post o ce reaghstown ardee drectdemocracyeire information please visit direct democracy ireland national citizens movement election manifesto pat greene alan lawes introduction \n"
     ]
    }
   ],
   "source": [
    "print(\"The 500 first character of Renua's manifesto are:\\n\" + trimmed_manifesto_renua[:500])\n",
    "print(\"\\n\\nThe 500 first characters of Direct Democracy Ireland's manifesto are:\\n\" + trimmed_manifesto_ddi[:500])"
   ]
  },
  {
   "cell_type": "code",
   "execution_count": 49,
   "metadata": {
    "collapsed": false
   },
   "outputs": [
    {
     "name": "stdout",
     "output_type": "stream",
     "text": [
      "Renua's manifesto most common words are:\n",
      "1. \"ireland\" appears 372 times\n",
      "2. \"renua\" appears 268 times\n",
      "3. \"cost\" appears 93 times\n",
      "4. \"system\" appears 89 times\n",
      "5. \"tax\" appears 88 times\n",
      "6. \"people\" appears 82 times\n",
      "7. \"irish\" appears 81 times\n",
      "8. \"public\" appears 80 times\n",
      "9. \"government\" appears 78 times\n",
      "10. \"local\" appears 65 times\n",
      "11. \"state\" appears 65 times\n",
      "12. \"sector\" appears 65 times\n",
      "13. \"must\" appears 64 times\n",
      "14. \"development\" appears 63 times\n",
      "15. \"believes\" appears 62 times\n",
      "16. \"ensure\" appears 62 times\n",
      "17. \"national\" appears 59 times\n",
      "18. \"care\" appears 58 times\n",
      "19. \"access\" appears 55 times\n",
      "20. \"policy\" appears 55 times\n",
      "\n",
      "\n",
      "Direct Democracy Ireland's manifesto most common words are:\n",
      "1. \"ireland\" appears 161 times\n",
      "2. \"people\" appears 134 times\n",
      "3. \"democracy\" appears 120 times\n",
      "4. \"direct\" appears 103 times\n",
      "5. \"national\" appears 68 times\n",
      "6. \"citizens\" appears 65 times\n",
      "7. \"irish\" appears 63 times\n",
      "8. \"movement\" appears 63 times\n",
      "9. \"system\" appears 54 times\n",
      "10. \"ddi\" appears 50 times\n",
      "11. \"health\" appears 43 times\n",
      "12. \"water\" appears 41 times\n",
      "13. \"election\" appears 41 times\n",
      "14. \"new\" appears 38 times\n",
      "15. \"government\" appears 38 times\n",
      "16. \"o\" appears 36 times\n",
      "17. \"state\" appears 35 times\n",
      "18. \"manifesto\" appears 34 times\n",
      "19. \"would\" appears 33 times\n",
      "20. \"political\" appears 32 times\n"
     ]
    }
   ],
   "source": [
    "#Re-using the function 'common words' that we had defined previously\n",
    "\n",
    "most_common_renua_trimmed = common_words(trimmed_manifesto_renua_token, 20)\n",
    "most_common_ddi_trimmed = common_words(trimmed_manifesto_ddi_token, 20)\n",
    "\n",
    "\n",
    "#Printing the 20 most common words\n",
    "\n",
    "print(\"Renua's manifesto most common words are:\")\n",
    "for i,j in enumerate(most_common_renua_trimmed):\n",
    "    print(\"%s. \\\"%s\\\" appears %s times\" % (i + 1, j[0], j[1]))\n",
    "\n",
    "print(\"\\n\\nDirect Democracy Ireland's manifesto most common words are:\")\n",
    "for i,j, in enumerate(most_common_ddi_trimmed):\n",
    "    print(\"%s. \\\"%s\\\" appears %s times\" % (i + 1, j[0], j[1]))"
   ]
  },
  {
   "cell_type": "markdown",
   "metadata": {},
   "source": [
    "### IV - [10pt] on the cleaned text, use a dispersion plot to show the coverage of different issues in the two manifestos, where the issues are: \"abortion\", \"crime\", \"debt\", \"economy\", \"environment\", \"health\", \"housing\", \"infrastructure\" , \"jobs\", \"tax\"."
   ]
  },
  {
   "cell_type": "code",
   "execution_count": 50,
   "metadata": {
    "collapsed": false
   },
   "outputs": [
    {
     "name": "stdout",
     "output_type": "stream",
     "text": [
      "Renua's manifesto dispersion plot:\n",
      "\n"
     ]
    },
    {
     "data": {
      "image/png": "[encoded data removed]",
      "text/plain": [
       "<matplotlib.figure.Figure at 0x7f1dfab0d630>"
      ]
     },
     "metadata": {},
     "output_type": "display_data"
    },
    {
     "name": "stdout",
     "output_type": "stream",
     "text": [
      "\n",
      "\n",
      "Direct Democracy Ireland's dispersion plot:\n",
      "\n"
     ]
    },
    {
     "data": {
      "image/png": "[encoded data removed]",
      "text/plain": [
       "<matplotlib.figure.Figure at 0x7f1dfad30898>"
      ]
     },
     "metadata": {},
     "output_type": "display_data"
    }
   ],
   "source": [
    "%matplotlib inline\n",
    "\n",
    "topics_of_interest = [ \"abortion\", \"crime\", \"debt\", \"economy\", \"environment\", \"health\", \"housing\", \n",
    "                      \"infrastructure\" , \"jobs\", \"tax\"]\n",
    "\n",
    "manifesto_renua_dispersion = nltk.Text(trimmed_manifesto_renua_token)\n",
    "manifesto_ddi_dispersion = nltk.Text(trimmed_manifesto_ddi_token)\n",
    "\n",
    "print(\"Renua's manifesto dispersion plot:\\n\")\n",
    "manifesto_renua_dispersion.dispersion_plot(topics_of_interest)\n",
    "\n",
    "print(\"\\n\\nDirect Democracy Ireland's dispersion plot:\\n\")\n",
    "manifesto_ddi_dispersion.dispersion_plot(topics_of_interest)"
   ]
  },
  {
   "cell_type": "markdown",
   "metadata": {
    "collapsed": true
   },
   "source": [
    "### IV. [20pt] Choose two different methods of summarising and contrasting the two political manifestos to give a better understanding of the characteristics and focus of each. Discuss the advantages and disadvantages of the methods proposed."
   ]
  },
  {
   "cell_type": "markdown",
   "metadata": {},
   "source": [
    "#### Method no 1. Deep-diving into the words."
   ]
  },
  {
   "cell_type": "markdown",
   "metadata": {},
   "source": [
    "One way to analyze a text is to analyze its vocabulary. The questions answered previously are a good start, and we will start our analysis from them.\n",
    "\n",
    "I have chosen to rely on the NLTK Brown Corpus to make an analysis of the vocabulary used by each parties:\n",
    "1. Their nouns, to highlight the particular subjects of interest of these manifestos\n",
    "2. Their verbs. Descriptive verbs tend to be used to refer to a context, while action verbs are used to introduce a movement\n",
    "3. Their adverbs. These are often use to appeal to the feelings of people, as opposed to their thinking."
   ]
  },
  {
   "cell_type": "code",
   "execution_count": 51,
   "metadata": {
    "collapsed": false
   },
   "outputs": [
    {
     "name": "stdout",
     "output_type": "stream",
     "text": [
      "Renua's most used nouns:\n",
      "\"ireland\", 275 occurrences.\n",
      "\"renua\", 157 occurrences.\n",
      "\"system\", 89 occurrences.\n",
      "\"tax\", 88 occurrences.\n",
      "\"people\", 82 occurrences.\n",
      "\"government\", 78 occurrences.\n",
      "\"cost\", 74 occurrences.\n",
      "\"state\", 65 occurrences.\n",
      "\"sector\", 65 occurrences.\n",
      "\"development\", 63 occurrences.\n",
      "\"policy\", 55 occurrences.\n",
      "\"access\", 55 occurrences.\n",
      "\"care\", 55 occurrences.\n",
      "\"services\", 51 occurrences.\n",
      "\"health\", 50 occurrences.\n",
      "\"industry\", 46 occurrences.\n",
      "\"role\", 45 occurrences.\n",
      "\"service\", 42 occurrences.\n",
      "\"housing\", 41 occurrences.\n",
      "\"business\", 40 occurrences.\n",
      "\n",
      "\n",
      "Direct Democracy Ireland's most used nouns:\n",
      "\"people\", 134 occurrences.\n",
      "\"democracy\", 120 occurrences.\n",
      "\"citizens\", 64 occurrences.\n",
      "\"movement\", 63 occurrences.\n",
      "\"ireland\", 62 occurrences.\n",
      "\"system\", 54 occurrences.\n",
      "\"health\", 43 occurrences.\n",
      "\"election\", 41 occurrences.\n",
      "\"water\", 41 occurrences.\n",
      "\"government\", 38 occurrences.\n",
      "\"state\", 35 occurrences.\n",
      "\"banks\", 28 occurrences.\n",
      "\"country\", 27 occurrences.\n",
      "\"tax\", 26 occurrences.\n",
      "\"ddi\", 26 occurrences.\n",
      "\"society\", 23 occurrences.\n",
      "\"service\", 22 occurrences.\n",
      "\"manifesto\", 21 occurrences.\n",
      "\"food\", 18 occurrences.\n",
      "\"education\", 17 occurrences.\n"
     ]
    }
   ],
   "source": [
    "from nltk.corpus import brown\n",
    "\n",
    "\n",
    "def wordcount_bytype(manifesto, word_type):\n",
    "    '''manifesto = a plain text manifesto\n",
    "    word_type = word type as per the NLTK Brown library, type help(nltk.pos_tag()) for more information\n",
    "    This function returns a list of words from manifesto matching the type specified in word_type'''\n",
    "    \n",
    "    #tokenize the manifesto by words\n",
    "    man_token = nltk.word_tokenize(manifesto)\n",
    "    \n",
    "    #apply tags (e.g. \"noun\", \"verbs\" to words in the manifesto)\n",
    "    man_tag = nltk.pos_tag(man_token, tagset='universal')\n",
    "    \n",
    "    #create a list ordered by most used words by tags\n",
    "    common_words = nltk.ConditionalFreqDist((tag, word) for (word, tag) in man_tag)\n",
    "    \n",
    "    #filters on the word_type specified by the user\n",
    "    common_words = common_words[word_type]\n",
    "    return(common_words)\n",
    "\n",
    "\n",
    "#Collecting and printing the most common nouns\n",
    "nouns_renua = wordcount_bytype(trimmed_manifesto_renua, \"NOUN\")\n",
    "nouns_ddi = wordcount_bytype(trimmed_manifesto_ddi, \"NOUN\")\n",
    "\n",
    "\n",
    "print(\"Renua's most used nouns:\")\n",
    "for word, count in nouns_renua.most_common(20):\n",
    "    print(\"\\\"%s\\\", %s occurrences.\" % (word, count))\n",
    "\n",
    "print(\"\\n\")\n",
    "\n",
    "print(\"Direct Democracy Ireland's most used nouns:\")\n",
    "for word, count in nouns_ddi.most_common(20):\n",
    "    print(\"\\\"%s\\\", %s occurrences.\" % (word, count))"
   ]
  },
  {
   "cell_type": "markdown",
   "metadata": {
    "collapsed": false
   },
   "source": [
    "We may deduct from these results that Renua's main topic is the economical state of Ireland: \"tax\", \"system\", \"cost\", \"sector\", \"industry\", \"housing\"\n",
    "\n",
    "On the other hand, Direct Democracy Ireland may be emphasizing the social aspect of politics, and describes a social movement: \"people\", \"citizens\", \"movement\", \"government\", \"society\", \"election\".\n",
    "\n",
    "\n",
    "All in all, it looks like Renua's plans for Ireland are focusing on taxes, expenses and solutions for industries and businesses, The economical growth and development of the country seems to be their main focus. They seem to have a macroeconomics approach, taking the country as a whole instead of referring to particular current issues.\n",
    "\n",
    "Direct Democracy's seems to be focusing on proposing a new polical system for Ireland (democracy, citiens, movement, election, government, state, society). They make a lot of references to the country and to its people. They are taking modern controversies (banks, water, food) to prove their points. Unlike Renua, they do not seem to be emphasizing economy a lot."
   ]
  },
  {
   "cell_type": "code",
   "execution_count": 52,
   "metadata": {
    "collapsed": false
   },
   "outputs": [
    {
     "name": "stdout",
     "output_type": "stream",
     "text": [
      "ireland 85\n",
      "must 64\n",
      "believes 62\n",
      "ensure 62\n",
      "renua 60\n",
      "believe 41\n",
      "would 40\n",
      "make 29\n",
      "proposing 28\n",
      "based 25\n",
      "\n",
      "\n",
      "ireland 94\n",
      "would 33\n",
      "must 28\n",
      "need 21\n",
      "believe 18\n",
      "make 18\n",
      "working 15\n",
      "ddi 10\n",
      "ensure 10\n",
      "paid 10\n"
     ]
    }
   ],
   "source": [
    "#Collecting and printing the most common verbs\n",
    "verbs_renua = wordcount_bytype(trimmed_manifesto_renua, \"VERB\")\n",
    "verbs_ddi = wordcount_bytype(trimmed_manifesto_ddi, \"VERB\")\n",
    "\n",
    "for word, count in verbs_renua.most_common(10):\n",
    "    print(word, count)\n",
    "\n",
    "print(\"\\n\")\n",
    "\n",
    "for word, count in verbs_ddi.most_common(10):\n",
    "    print(word, count)"
   ]
  },
  {
   "cell_type": "markdown",
   "metadata": {},
   "source": [
    "Both parties seem to be using verbs to describe a vision, which is not unexpected in a political manifesto. I do not see a strong difference between the verbs that each manifesto use."
   ]
  },
  {
   "cell_type": "code",
   "execution_count": 53,
   "metadata": {
    "collapsed": false
   },
   "outputs": [
    {
     "name": "stdout",
     "output_type": "stream",
     "text": [
      "also 42\n",
      "back 14\n",
      "well 13\n",
      "currently 12\n",
      "rather 10\n",
      "instead 9\n",
      "therefore 8\n",
      "far 8\n",
      "directly 8\n",
      "best 7\n",
      "\n",
      "\n",
      "also 23\n",
      "currently 12\n",
      "together 12\n",
      "ever 10\n",
      "back 9\n",
      "fully 9\n",
      "rather 9\n",
      "never 8\n",
      "always 7\n",
      "better 7\n"
     ]
    }
   ],
   "source": [
    "#Collecting and printing the most common adverbs\n",
    "adv_renua = wordcount_bytype(trimmed_manifesto_renua, \"ADV\")\n",
    "adv_ddi = wordcount_bytype(trimmed_manifesto_ddi, \"ADV\")\n",
    "\n",
    "for word, count in adv_renua.most_common(10):\n",
    "    print(word, count)\n",
    "\n",
    "print(\"\\n\")\n",
    "\n",
    "for word, count in adv_ddi.most_common(10):\n",
    "    print(word, count)"
   ]
  },
  {
   "cell_type": "markdown",
   "metadata": {},
   "source": [
    "This may be far-fetched, but there is some differences here between the 2 manifestos. Renua is using adverbs to contrast or to justify its arguments: \"rather\", \"instead\", \"therefore\". There is only 1 superlative, \"best\".\n",
    "Direct Democracy seems to be using more superlatives: \"fully\", \"ever\", \"never\", \"always\", and the comparative \"better\". Using this type of vocabulary is sometimes seen as an attempt to bring emotions. Therefore, Direct Democracy's manifesto might be more \"emotional\" than Renua's.\n",
    "\n",
    "***\n",
    "\n",
    "The method above is simple and can easily be replicated. It gives a good view of each parties' main topics of interest and of the kind of language and strategy they use to convince readers to vote for them. The methodology used can easily be applied to other manifestos withvery few or no change to the code used.\n",
    "\n",
    "What it doesn't outline, however, is how much they refer to these topic. Sure, we do know how many times they use a particular word, but if we don't compare it to another metric such as the total number of words then this figure has no meaning.\n",
    "\n",
    "Below, I will use different graphic representation to illustrate the content of the manifestos.\n",
    "\n",
    "***\n",
    "\n",
    "#### Method no 2. Giving context and illustrating\n",
    "\n",
    "First, I would like to check whether they tend to re-use vocabulary or not. A rich vocabulary may be a hint that the manifesto equally covers a broad range of topics. If the same vocabulary tends to be re-used, then it may be a hint that the manifesto favours some topics."
   ]
  },
  {
   "cell_type": "code",
   "execution_count": 54,
   "metadata": {
    "collapsed": false
   },
   "outputs": [
    {
     "name": "stdout",
     "output_type": "stream",
     "text": [
      "Renua's manifesto plot of its 20 most used nouns:\n",
      "\n"
     ]
    },
    {
     "data": {
      "image/png": "[encoded data removed]",
      "text/plain": [
       "<matplotlib.figure.Figure at 0x7f1df5f157b8>"
      ]
     },
     "metadata": {},
     "output_type": "display_data"
    },
    {
     "name": "stdout",
     "output_type": "stream",
     "text": [
      "\n",
      "Direct Democracy ireland's plot of its 20 most used nouns:\n",
      "\n"
     ]
    },
    {
     "data": {
      "image/png": "[encoded data removed]",
      "text/plain": [
       "<matplotlib.figure.Figure at 0x7f1df5eb31d0>"
      ]
     },
     "metadata": {},
     "output_type": "display_data"
    }
   ],
   "source": [
    "print(\"Renua's manifesto plot of its 20 most used nouns:\\n\")\n",
    "plot_renua = nltk.FreqDist(nouns_renua)\n",
    "plot_renua.plot(20, cumulative=True)\n",
    "\n",
    "print(\"\\nDirect Democracy ireland's plot of its 20 most used nouns:\\n\")\n",
    "plot_ddi = nltk.FreqDist(nouns_ddi)\n",
    "plot_ddi.plot(20, cumulative=True)"
   ]
  },
  {
   "cell_type": "markdown",
   "metadata": {},
   "source": [
    "As we can see, both plots display a curved line, which could mean that both manifestos do not treat all subjects equally. This may mean that some topics are more important to them than others, and thatthey wish to emphasize these subjects on their manifesto.\n",
    "\n",
    "We can also see that Direct Democracy Ireland's manifesto is visibly more curved than Renua's manifesto, which may mean that Direct Democracy is more 'biased' towards a particular topic that Renua is.\n",
    "\n",
    "In order to check what their \"big\" topic is, I have chosen to distribute each manifesto's 20 most common words into 3 general, broader topics: economy, society and welfare. The below section distributes the word counts of these topic to outline their comparative importance."
   ]
  },
  {
   "cell_type": "code",
   "execution_count": 55,
   "metadata": {
    "collapsed": false
   },
   "outputs": [
    {
     "data": {
      "text/plain": [
       "([<matplotlib.patches.Wedge at 0x7f1dfa8851d0>,\n",
       "  <matplotlib.patches.Wedge at 0x7f1dfa88da58>,\n",
       "  <matplotlib.patches.Wedge at 0x7f1df5ecdcc0>],\n",
       " [<matplotlib.text.Text at 0x7f1df5527438>,\n",
       "  <matplotlib.text.Text at 0x7f1dfa883b00>,\n",
       "  <matplotlib.text.Text at 0x7f1df5f06898>],\n",
       " [<matplotlib.text.Text at 0x7f1dfa880ef0>,\n",
       "  <matplotlib.text.Text at 0x7f1dfa8813c8>,\n",
       "  <matplotlib.text.Text at 0x7f1df5f2cdd8>])"
      ]
     },
     "execution_count": 55,
     "metadata": {},
     "output_type": "execute_result"
    },
    {
     "data": {
      "image/png": "[encoded data removed]",
      "text/plain": [
       "<matplotlib.figure.Figure at 0x7f1df586cc18>"
      ]
     },
     "metadata": {},
     "output_type": "display_data"
    }
   ],
   "source": [
    "import pandas as pd\n",
    "import matplotlib.pyplot as plt\n",
    "\n",
    "#Defining arrays\n",
    "word_array_renua = []\n",
    "count_array_renua = []\n",
    "\n",
    "#Adds the words and the word counts to the arrays\n",
    "for word, count in nouns_renua.most_common(20):\n",
    "    word_array_renua += [word]\n",
    "    count_array_renua += [count]\n",
    "\n",
    "#Concatenates both arrays in 1 single array\n",
    "matrix_renua = [word_array_renua] + [count_array_renua]\n",
    "\n",
    "#Transforms the array into a data frame with Panda\n",
    "df_renua = pd.DataFrame(matrix_renua, columns=matrix_renua[0])\n",
    "\n",
    "#Removes the first line of the data frame (it was containing words; words are already the header of the data frame)\n",
    "df_renua = df_renua.ix[1:]\n",
    "\n",
    "#Defining categories\n",
    "df_renua['economy'] = df_renua['tax'] + df_renua['cost'] + df_renua['housing'] + df_renua['development'] + df_renua['industry'] + df_renua['business'] + df_renua['sector']\n",
    "df_renua['welfare'] = df_renua['care'] + df_renua['health'] + df_renua['access'] + df_renua['service'] + df_renua['services']\n",
    "df_renua['society'] = df_renua['government'] + df_renua['state'] + df_renua['policy'] + df_renua['people'] + df_renua['system']\n",
    "total_renua = [int(df_renua['society']), int(df_renua['welfare']), int(df_renua['economy'])]\n",
    "\n",
    "#Draw a pie\n",
    "plt.pie(total_renua,\n",
    "        autopct='%1.1f%%', \n",
    "        labels=['society', 'welfare', 'economy'], \n",
    "        colors=[\"#F5E0BA\", \"#F5BAED\", \"#BACFF5\"],\n",
    "        explode = [0.015, 0.015, 0.015])"
   ]
  },
  {
   "cell_type": "code",
   "execution_count": 56,
   "metadata": {
    "collapsed": false
   },
   "outputs": [
    {
     "data": {
      "text/plain": [
       "([<matplotlib.patches.Wedge at 0x7f1df554a4a8>,\n",
       "  <matplotlib.patches.Wedge at 0x7f1df52926a0>,\n",
       "  <matplotlib.patches.Wedge at 0x7f1df588c7f0>],\n",
       " [<matplotlib.text.Text at 0x7f1df4d32080>,\n",
       "  <matplotlib.text.Text at 0x7f1df5529630>,\n",
       "  <matplotlib.text.Text at 0x7f1df5281198>],\n",
       " [<matplotlib.text.Text at 0x7f1df554ec88>,\n",
       "  <matplotlib.text.Text at 0x7f1df5274be0>,\n",
       "  <matplotlib.text.Text at 0x7f1df5efe048>])"
      ]
     },
     "execution_count": 56,
     "metadata": {},
     "output_type": "execute_result"
    },
    {
     "data": {
      "image/png": "[encoded data removed]",
      "text/plain": [
       "<matplotlib.figure.Figure at 0x7f1df5287470>"
      ]
     },
     "metadata": {},
     "output_type": "display_data"
    }
   ],
   "source": [
    "#Same code as above, but for Direct Democracy\n",
    "word_array_ddi = []\n",
    "count_array_ddi = []\n",
    "\n",
    "for word, count in nouns_ddi.most_common(20):\n",
    "    word_array_ddi += [word]\n",
    "    count_array_ddi += [count]\n",
    "\n",
    "matrix_ddi = [word_array_ddi] + [count_array_ddi]\n",
    "\n",
    "df_ddi = pd.DataFrame(matrix_ddi, columns=matrix_ddi[0])\n",
    "df_ddi = df_ddi.ix[1:]\n",
    "\n",
    "df_ddi['society'] = df_ddi['people'] + df_ddi['democracy'] + df_ddi['citizens'] + df_ddi['movement'] + df_ddi['society'] + df_ddi['system'] + df_ddi['election'] + df_ddi['government'] + df_ddi['state'] + df_ddi['country']\n",
    "df_ddi['economy'] = df_ddi['banks'] + df_ddi['water'] + df_ddi['tax']\n",
    "df_ddi['welfare'] = df_ddi['health'] + df_ddi['service'] + df_ddi['food'] + df_ddi['education']\n",
    "total_ddi = [int(df_ddi['society']), int(df_ddi['welfare']), int(df_ddi['economy'])]\n",
    "\n",
    "plt.pie(total_ddi,\n",
    "        autopct='%1.1f%%', \n",
    "        labels=['society', 'welfare', 'economy'], \n",
    "        colors=[\"#F5E0BA\", \"#F5BAED\", \"#BACFF5\"],\n",
    "        explode = [0.015, 0.015, 0.015])"
   ]
  },
  {
   "cell_type": "markdown",
   "metadata": {
    "collapsed": false
   },
   "source": [
    "Here we can see that Renua's manifesto main topic of interest is economy, with 40% of its content dedicated to that topic. Direct Democracy Ireland's manifesto is discussing society for three quarters of its content. This may indicate that Renua dedicates more attention to a broad range of topics whilst Direct Democracy Ireland is almost fully covering a topic.\n",
    "\n",
    "This method has the advantage of showing the \"big picture\" of what the manifestos are about. Counting words is a first step, but humans often won't see the big picture if they are exposed to 20 different categories. In this method, with have taken close to 20 categories and fit them into broader categories in order to achieve that big picture. Another advantage of this method is that it is visual. Instead of a list of topics, a chart is presented where we can clearly see the biggest piece of the pie. Last but not least, instead of presenting the topics of the manifesto in absolute terms, we provide relative figures, thus giving them more weight and more context.\n",
    "\n",
    "There are a few disadvantages of this method. The first one, and the biggest one, is that we are getting out of our automated, impartial algorithm. I had to made choice above regarding how to name my categories and what to fit in them. For example, I have chosen to add \"water\" to \"economy\" and \"food\" and \"education\" to \"welfare\" and this is debatable. Another disadvantage resulting from that choise is that a human intervention is necessary at that stage to group subject together. Therefore, as of now, while my algorithm in method no1 could be applied as they are to any other manifestos, these algorithms right there would need some work in order to be applied to other manifestos. The content of the categories would need to be updated for each manifestos, and possibly, the names of the categories."
   ]
  }
 ],
 "metadata": {
  "kernelspec": {
   "display_name": "Python 3",
   "language": "python",
   "name": "python3"
  },
  "language_info": {
   "codemirror_mode": {
    "name": "ipython",
    "version": 3
   },
   "file_extension": ".py",
   "mimetype": "text/x-python",
   "name": "python",
   "nbconvert_exporter": "python",
   "pygments_lexer": "ipython3",
   "version": "3.5.1"
  }
 },
 "nbformat": 4,
 "nbformat_minor": 0
}
